{
 "cells": [
  {
   "cell_type": "code",
   "execution_count": null,
   "id": "local-investor",
   "metadata": {},
   "outputs": [],
   "source": [
    "import numpy as np\n",
    "import igl\n",
    "import meshplot as mp\n",
    "import scipy as sp\n",
    "from scipy.spatial.transform import Rotation\n",
    "from scipy.sparse.linalg import spsolve\n",
    "from sksparse.cholmod import cholesky\n",
    "import ipywidgets as iw\n",
    "import time\n"
   ]
  },
  {
   "cell_type": "markdown",
   "id": "4d5dccc5",
   "metadata": {},
   "source": [
    "H: set of handle vertices \\\n",
    "R: R remaining vertices not in H \\\n",
    "S: input surface (H + R = S)"
   ]
  },
  {
   "cell_type": "code",
   "execution_count": null,
   "id": "pharmaceutical-transsexual",
   "metadata": {},
   "outputs": [],
   "source": [
    "v, f = igl.read_triangle_mesh('data/hand.off')\n",
    "labels = np.load('data/hand.label.npy').astype(int)\n",
    "#v, f = igl.read_triangle_mesh('data/woody-hi.off')\n",
    "#labels = np.load('data/woody-hi.label.npy').astype(int)\n",
    "v -= v.min(axis=0)\n",
    "v /= v.max()"
   ]
  },
  {
   "cell_type": "code",
   "execution_count": null,
   "id": "tight-course",
   "metadata": {},
   "outputs": [],
   "source": [
    "handle_vertex_positions = v.copy()\n",
    "pos_f_saver = np.zeros((labels.max() + 1, 6))\n",
    "def pos_f(s,x,y,z, α, β, γ):\n",
    "    slices = (labels==s)\n",
    "    r = Rotation.from_euler('xyz', [α, β, γ], degrees=True)\n",
    "    v_slice = v[slices] + np.array([[x,y,z]])\n",
    "    center = v_slice.mean(axis=0)\n",
    "    handle_vertex_positions[slices] = r.apply(v_slice - center) + center\n",
    "    pos_f_saver[s - 1] = [x,y,z,α,β,γ]\n",
    "    t0 = time.time()\n",
    "    v_deformed = pos_f.deformer(handle_vertex_positions)\n",
    "    p.update_object(vertices = v_deformed)\n",
    "    t1 = time.time()\n",
    "    print('FPS', 1/(t1 - t0))\n",
    "pos_f.deformer = lambda x:x"
   ]
  },
  {
   "cell_type": "code",
   "execution_count": null,
   "id": "stone-element",
   "metadata": {},
   "outputs": [],
   "source": [
    "def widgets_wrapper():\n",
    "    segment_widget = iw.Dropdown(options=np.arange(labels.max()) + 1)\n",
    "    translate_widget = {i:iw.FloatSlider(min=-1, max=1, value=0) \n",
    "                        for i in 'xyz'}\n",
    "    rotate_widget = {a:iw.FloatSlider(min=-90, max=90, value=0, step=1) \n",
    "                     for a in 'αβγ'}\n",
    "\n",
    "    def update_seg(*args):\n",
    "        (translate_widget['x'].value,translate_widget['y'].value,\n",
    "        translate_widget['z'].value,\n",
    "        rotate_widget['α'].value,rotate_widget['β'].value,\n",
    "        rotate_widget['γ'].value) = pos_f_saver[segment_widget.value]\n",
    "    segment_widget.observe(update_seg, 'value')\n",
    "    widgets_dict = dict(s=segment_widget)\n",
    "    widgets_dict.update(translate_widget)\n",
    "    widgets_dict.update(rotate_widget)\n",
    "    return widgets_dict"
   ]
  },
  {
   "cell_type": "code",
   "execution_count": null,
   "id": "e26a35ec",
   "metadata": {},
   "outputs": [],
   "source": [
    "def pre_factor_system(v, f, labels):\n",
    "    Lw = igl.cotmatrix(v, f)\n",
    "    m = igl.massmatrix(v, f, igl.MASSMATRIX_TYPE_VORONOI)\n",
    "    minv = sp.sparse.diags(1 / m.diagonal())\n",
    "\n",
    "    A = Lw@minv@Lw\n",
    "\n",
    "    Aff = A[labels == 0][:, labels == 0]\n",
    "    Afc = A[labels == 0][:, labels > 0]\n",
    "\n",
    "    factor = cholesky(Aff)\n",
    "\n",
    "    return factor, Afc\n",
    "    #x = factor.solve_A(b)\n"
   ]
  },
  {
   "cell_type": "code",
   "execution_count": null,
   "id": "a7a17beb",
   "metadata": {},
   "outputs": [],
   "source": [
    "def smooth_deformer(target_pos):\n",
    "    vc = target_pos[labels > 0]\n",
    "    b = -Afc@vc\n",
    "    x = factor(b)\n",
    "\n",
    "    B = np.zeros(target_pos.shape)\n",
    "    B[labels == 0] = x[:np.sum(labels == 0)]\n",
    "    B[labels > 0] = target_pos[labels > 0]\n",
    "\n",
    "    return B\n"
   ]
  },
  {
   "cell_type": "code",
   "execution_count": null,
   "id": "5a8dd2fa",
   "metadata": {},
   "outputs": [],
   "source": [
    "# step 3: Transferring high-frequency details to the deformed surface\n",
    "def compute_high_freq_details(B, S, f):\n",
    "    B_vertex_norms = igl.per_vertex_normals(B, f)\n",
    "    neighbor_indices = igl.adjacency_list(f)\n",
    "\n",
    "    x = np.zeros((B.shape[0], 3))\n",
    "    y = np.zeros((B.shape[0], 3))\n",
    "    d = np.zeros((B.shape[0], 3))\n",
    "    d_x = np.zeros((B.shape[0]))\n",
    "    d_y = np.zeros((B.shape[0]))\n",
    "    d_n = np.zeros((B.shape[0]))\n",
    "    neighbor_selections = np.zeros((B.shape[0]), dtype=int)\n",
    "    for i in range(B.shape[0]):\n",
    "        # build d\n",
    "        d[i] = S[i] - B[i]\n",
    "\n",
    "        # project all neighboring vertices of vi to the tangent plane (perpendicular to ni)\n",
    "        #tang_planes = np.zeros((len(neighbor_indices[i]), 3))\n",
    "        x_max = np.zeros((1, 3))\n",
    "        for j in neighbor_indices[i]:\n",
    "            tang_planes = B[j] - np.dot(B[j], B_vertex_norms[i]) * B_vertex_norms[i]\n",
    "            if np.linalg.norm(tang_planes) > np.linalg.norm(x_max):\n",
    "                x_max = tang_planes\n",
    "                neighbor_selections[i] = j\n",
    "        # find the neighbor j* for which projected edge (i, j) is longest. Normalize this edge vector and call it xi\n",
    "        #x[i] = np.linalg.norm(tang_planes[np.argmax(np.linalg.norm(tang_planes, axis=1))])\n",
    "        x[i] = x_max\n",
    "        # construct yi using the cross product, completing orthonormal frame (xi, yi, ni)\n",
    "        y[i] = np.cross(B_vertex_norms[i], x[i])\n",
    "\n",
    "        # decompose the displacement vectors in the frame's basis: di = di_x xi + di_y yi + di_n ni\n",
    "        # The bases is orthonormal, so you can do this just with inner products\n",
    "        d_x[i] = np.dot(d[i], x[i])\n",
    "        d_y[i] = np.dot(d[i], y[i])\n",
    "        d_n[i] = np.dot(d[i], B_vertex_norms[i])\n",
    "\n",
    "    return d_x, d_y, d_n, neighbor_selections"
   ]
  },
  {
   "cell_type": "code",
   "execution_count": null,
   "id": "20290751",
   "metadata": {},
   "outputs": [],
   "source": [
    "def apply_high_freq_details(B_prime, d_x, d_y, d_n, neighbor_selections, f):\n",
    "    B_prime_vertex_norms = igl.per_vertex_normals(B, f)\n",
    "    x_prime = np.zeros((B_prime.shape[0], 3))\n",
    "    y_prime = np.zeros((B_prime.shape[0], 3))\n",
    "    d_prime = np.zeros((B_prime.shape[0], 3))\n",
    "    for i in range(B_prime.shape[0]):\n",
    "        j = neighbor_selections[i]\n",
    "        x_prime[i] = B_prime[j] - np.dot(B_prime[j], B_prime_vertex_norms[i]) * B_prime_vertex_norms[i]\n",
    "        y_prime[i] = np.cross(B_prime_vertex_norms[i], x_prime[i])\n",
    "        d_prime[i] = d_x[i] * x_prime[i] + d_y[i] * y_prime[i] + d_n[i] * B_prime_vertex_norms[i]\n",
    "\n",
    "    return B_prime + d_prime\n",
    "    #mp.plot(S_prime, f)"
   ]
  },
  {
   "cell_type": "code",
   "execution_count": null,
   "id": "0afc72e3",
   "metadata": {},
   "outputs": [],
   "source": [
    "def position_deformer(target_pos):\n",
    "    B = smooth_deformer(target_pos)\n",
    "    return apply_high_freq_details(B, d_x, d_y, d_n, neighbor_selections, f)\n",
    "\n",
    "    "
   ]
  },
  {
   "cell_type": "code",
   "execution_count": null,
   "id": "divine-variety",
   "metadata": {},
   "outputs": [],
   "source": [
    "''' (Optional) Register this function to perform interactive deformation\n",
    "pos_f.deformer = position_deformer\n",
    "'''\n",
    "pos_f.deformer = position_deformer"
   ]
  },
  {
   "cell_type": "code",
   "execution_count": null,
   "id": "ebb133fb",
   "metadata": {},
   "outputs": [],
   "source": [
    "mp.plot(v, f, c=labels)"
   ]
  },
  {
   "cell_type": "code",
   "execution_count": null,
   "id": "240c068d",
   "metadata": {},
   "outputs": [],
   "source": [
    "factor, Afc = pre_factor_system(v, f, labels)\n",
    "B = smooth_deformer(v)\n",
    "d_x, d_y, d_n, neighbor_selections = compute_high_freq_details(B, v, f)\n",
    "mp.plot(B, f, c=labels)"
   ]
  },
  {
   "cell_type": "code",
   "execution_count": null,
   "id": "61037bb9",
   "metadata": {},
   "outputs": [],
   "source": [
    "p = mp.plot(handle_vertex_positions, f, c=labels)\n",
    "iw.interact(pos_f,\n",
    "            **widgets_wrapper())"
   ]
  },
  {
   "cell_type": "code",
   "execution_count": null,
   "id": "79d381c4",
   "metadata": {},
   "outputs": [],
   "source": [
    "B_prime = smooth_deformer(handle_vertex_positions)\n",
    "mp.plot(B_prime, f, c=labels)"
   ]
  },
  {
   "cell_type": "code",
   "execution_count": null,
   "id": "23f33b9b",
   "metadata": {},
   "outputs": [],
   "source": [
    "S_prime = apply_high_freq_details(B_prime, d_x, d_y, d_n, neighbor_selections, f)\n",
    "mp.plot(S_prime, f, c=labels)"
   ]
  },
  {
   "cell_type": "code",
   "execution_count": null,
   "id": "34c7e29d",
   "metadata": {},
   "outputs": [],
   "source": [
    "v, f = igl.read_triangle_mesh('data/woody-hi.off')\n",
    "labels = np.load('data/woody-hi.label.npy').astype(int)\n",
    "v -= v.min(axis=0)\n",
    "v /= v.max()\n",
    "\n",
    "handle_vertex_positions = v.copy()\n",
    "pos_f_saver = np.zeros((labels.max() + 1, 6))"
   ]
  },
  {
   "cell_type": "code",
   "execution_count": null,
   "id": "20acfc53",
   "metadata": {},
   "outputs": [],
   "source": [
    "mp.plot(v, f, c=labels)"
   ]
  },
  {
   "cell_type": "code",
   "execution_count": null,
   "id": "59201c6e",
   "metadata": {},
   "outputs": [],
   "source": [
    "factor, Afc = pre_factor_system(v, f, labels)\n",
    "B = smooth_deformer(v)\n",
    "d_x, d_y, d_n, neighbor_selections = compute_high_freq_details(B, v, f)\n",
    "mp.plot(B, f, c=labels)"
   ]
  },
  {
   "cell_type": "code",
   "execution_count": null,
   "id": "c2fcebfc",
   "metadata": {},
   "outputs": [],
   "source": [
    "p = mp.plot(handle_vertex_positions, f, c=labels)\n",
    "iw.interact(pos_f,\n",
    "            **widgets_wrapper())"
   ]
  },
  {
   "cell_type": "code",
   "execution_count": null,
   "id": "4cf1915d",
   "metadata": {},
   "outputs": [],
   "source": [
    "B_prime = smooth_deformer(handle_vertex_positions)\n",
    "mp.plot(B_prime, f, c=labels)"
   ]
  },
  {
   "cell_type": "code",
   "execution_count": null,
   "id": "fb2e8176",
   "metadata": {},
   "outputs": [],
   "source": [
    "S_prime = apply_high_freq_details(B_prime, d_x, d_y, d_n, neighbor_selections, f)\n",
    "mp.plot(S_prime, f, c=labels)"
   ]
  },
  {
   "cell_type": "code",
   "execution_count": null,
   "id": "d0e9b12a",
   "metadata": {},
   "outputs": [],
   "source": [
    "v, f = igl.read_triangle_mesh('')\n",
    "labels = np.load('').astype(int)\n",
    "v -= v.min(axis=0)\n",
    "v /= v.max()\n",
    "\n",
    "handle_vertex_positions = v.copy()\n",
    "pos_f_saver = np.zeros((labels.max() + 1, 6))"
   ]
  },
  {
   "cell_type": "code",
   "execution_count": null,
   "id": "45a0eddb",
   "metadata": {},
   "outputs": [],
   "source": []
  },
  {
   "cell_type": "code",
   "execution_count": null,
   "id": "7588fd65",
   "metadata": {},
   "outputs": [],
   "source": []
  },
  {
   "cell_type": "code",
   "execution_count": null,
   "id": "d3f2edf4",
   "metadata": {},
   "outputs": [],
   "source": [
    "v, f = igl.read_triangle_mesh('')\n",
    "labels = np.load('').astype(int)\n",
    "v -= v.min(axis=0)\n",
    "v /= v.max()\n",
    "\n",
    "handle_vertex_positions = v.copy()\n",
    "pos_f_saver = np.zeros((labels.max() + 1, 6))"
   ]
  },
  {
   "cell_type": "code",
   "execution_count": null,
   "id": "a6ffd341",
   "metadata": {},
   "outputs": [],
   "source": []
  },
  {
   "cell_type": "code",
   "execution_count": null,
   "id": "1c298074",
   "metadata": {},
   "outputs": [],
   "source": []
  },
  {
   "cell_type": "markdown",
   "id": "e934ef1b",
   "metadata": {},
   "source": [
    "old code below"
   ]
  }
 ],
 "metadata": {
  "kernelspec": {
   "display_name": "Python 3",
   "language": "python",
   "name": "python3"
  },
  "language_info": {
   "codemirror_mode": {
    "name": "ipython",
    "version": 3
   },
   "file_extension": ".py",
   "mimetype": "text/x-python",
   "name": "python",
   "nbconvert_exporter": "python",
   "pygments_lexer": "ipython3",
   "version": "3.10.10"
  }
 },
 "nbformat": 4,
 "nbformat_minor": 5
}
